{
  "nbformat": 4,
  "nbformat_minor": 0,
  "metadata": {
    "colab": {
      "provenance": [],
      "authorship_tag": "ABX9TyNjJjPNZMGy9siA1kIQj7Y9",
      "include_colab_link": true
    },
    "kernelspec": {
      "name": "python3",
      "display_name": "Python 3"
    },
    "language_info": {
      "name": "python"
    }
  },
  "cells": [
    {
      "cell_type": "markdown",
      "metadata": {
        "id": "view-in-github",
        "colab_type": "text"
      },
      "source": [
        "<a href=\"https://colab.research.google.com/github/Nasa19c/aipython/blob/main/2024_01_03.ipynb\" target=\"_parent\"><img src=\"https://colab.research.google.com/assets/colab-badge.svg\" alt=\"Open In Colab\"/></a>"
      ]
    },
    {
      "cell_type": "code",
      "execution_count": null,
      "metadata": {
        "colab": {
          "base_uri": "https://localhost:8080/"
        },
        "id": "fbz1QiUI602T",
        "outputId": "54146e0d-d6e7-4e23-ed15-baa13172968a"
      },
      "outputs": [
        {
          "output_type": "stream",
          "name": "stdout",
          "text": [
            "a는 5보다 크다\n"
          ]
        }
      ],
      "source": [
        "a = 10\n",
        "if a>5:\n",
        "  print('a는 5보다 크다')"
      ]
    },
    {
      "cell_type": "code",
      "source": [
        "def m_f(k):\n",
        "  if 'm' in k:\n",
        "    return 'Male'\n",
        "  else:\n",
        "    return 'Female'"
      ],
      "metadata": {
        "id": "ok--kTK08bk-"
      },
      "execution_count": null,
      "outputs": []
    },
    {
      "cell_type": "code",
      "source": [
        "a = int(input())\n",
        "\n",
        "if a >=90:\n",
        "  print('A')\n",
        "elif a>=80:\n",
        "  print('B')\n",
        "elif a >=70:\n",
        "  print('C')\n",
        "else:\n",
        "  print('D')"
      ],
      "metadata": {
        "colab": {
          "base_uri": "https://localhost:8080/"
        },
        "id": "GaLajve89_F_",
        "outputId": "3039a9ff-34e2-4866-95c1-0ab812cf2aee"
      },
      "execution_count": null,
      "outputs": [
        {
          "output_type": "stream",
          "name": "stdout",
          "text": [
            "12\n",
            "D\n"
          ]
        }
      ]
    },
    {
      "cell_type": "code",
      "source": [
        "a = 10\n",
        "b = 5\n",
        "\n",
        "if a>5:\n",
        "  if b<10:\n",
        "    print('a는 5보다 크고 10보다 작다')\n",
        "\n"
      ],
      "metadata": {
        "colab": {
          "base_uri": "https://localhost:8080/"
        },
        "id": "bCjj4fVbB62u",
        "outputId": "c55b1c63-954c-497d-80cc-24bc3fb1855f"
      },
      "execution_count": null,
      "outputs": [
        {
          "output_type": "stream",
          "name": "stdout",
          "text": [
            "a는 5보다 크고 10보다 작다\n"
          ]
        }
      ]
    },
    {
      "cell_type": "code",
      "source": [
        "if a>5 and b<10:\n",
        "  print('a는 5보다 크고 10보다 작다')\n"
      ],
      "metadata": {
        "colab": {
          "base_uri": "https://localhost:8080/"
        },
        "id": "xvlpIv23CEcw",
        "outputId": "867344c7-b055-4c90-94d1-d520d4d395aa"
      },
      "execution_count": null,
      "outputs": [
        {
          "output_type": "stream",
          "name": "stdout",
          "text": [
            "a는 5보다 크고 10보다 작다\n"
          ]
        }
      ]
    },
    {
      "cell_type": "code",
      "source": [
        "a = [1,2,3,4,5]\n",
        "for i in a:\n",
        "  print(i, end = ' ')"
      ],
      "metadata": {
        "colab": {
          "base_uri": "https://localhost:8080/"
        },
        "id": "-zaLqVJrDdmQ",
        "outputId": "e2a022ed-96d4-4494-fd92-84c83b7beae4"
      },
      "execution_count": null,
      "outputs": [
        {
          "output_type": "stream",
          "name": "stdout",
          "text": [
            "1 2 3 4 5 "
          ]
        }
      ]
    },
    {
      "cell_type": "code",
      "source": [
        "for i in range(1,10,2):\n",
        "  print(i,end = ' ')"
      ],
      "metadata": {
        "colab": {
          "base_uri": "https://localhost:8080/"
        },
        "id": "3bvnvFANERHG",
        "outputId": "2724d8c5-0ec7-4824-f44e-874cc3599089"
      },
      "execution_count": null,
      "outputs": [
        {
          "output_type": "stream",
          "name": "stdout",
          "text": [
            "1 3 5 7 9 "
          ]
        }
      ]
    },
    {
      "cell_type": "code",
      "source": [
        "for i in range(10):\n",
        "  print(i,end = ' ')"
      ],
      "metadata": {
        "colab": {
          "base_uri": "https://localhost:8080/"
        },
        "id": "GqUobzmyEUXX",
        "outputId": "2714add3-51ed-4225-faa3-3be231ef7985"
      },
      "execution_count": null,
      "outputs": [
        {
          "output_type": "stream",
          "name": "stdout",
          "text": [
            "0 1 2 3 4 5 6 7 8 9 "
          ]
        }
      ]
    },
    {
      "cell_type": "code",
      "source": [
        "def add(x,y):\n",
        "  s = x+y\n",
        "  a = s/2\n",
        "  return s,a\n",
        "h,a = add(10,20)\n",
        "print('합:',h,'평균:',a)"
      ],
      "metadata": {
        "colab": {
          "base_uri": "https://localhost:8080/"
        },
        "id": "d--Z_wGUPDzZ",
        "outputId": "249a4d75-2b33-4fc7-c29c-fcdcacfad6d0"
      },
      "execution_count": null,
      "outputs": [
        {
          "output_type": "stream",
          "name": "stdout",
          "text": [
            "합: 30 평균: 15.0\n"
          ]
        }
      ]
    },
    {
      "cell_type": "code",
      "source": [
        "# 본 예제에서는 if 조건문의 기본 활용법에 대해 살펴본다.\n",
        "# 점수를 세 번 입력받고 평균을 계산한 후, 전역 상수와 비교하여\n",
        "# 클 경우에는 메시지를 출력한다.\n",
        "# 전역 상수 선언\n",
        "HIGH_SCORE = 95\n",
        "def main(): # 점수를 세 번 입력받아 각 변수에 할당한다.\n",
        "  test1 = int(input('Enter the score for test 1: '))\n",
        "  test2 = int(input('Enter the score for test 2: '))\n",
        "  test3 = int(input('Enter the score for test 3: '))\n",
        "  average = (test1 + test2 + test3) / 3\n",
        "  print('The average score is', average)\n",
        "  # 평균값이 HIGH_SCORE 보다 클 경우에 메시지 출력\n",
        "  if average >= HIGH_SCORE:\n",
        "    print('Congratulations!')\n",
        "    print('That is a great average!')\n",
        "main()"
      ],
      "metadata": {
        "colab": {
          "base_uri": "https://localhost:8080/"
        },
        "id": "nfBX38BOLg7h",
        "outputId": "8ec6c420-6a2a-4b0c-89d9-0f0467b91109"
      },
      "execution_count": null,
      "outputs": [
        {
          "output_type": "stream",
          "name": "stdout",
          "text": [
            "Enter the score for test 1: 87\n",
            "Enter the score for test 2: 89\n",
            "Enter the score for test 3: 34\n",
            "The average score is 70.0\n"
          ]
        }
      ]
    },
    {
      "cell_type": "code",
      "source": [
        "BASE_HOURS = 40 # Base hours per week\n",
        "OT_MULTIPLIER = 1.5 # Overtime multiplier\n",
        "\n",
        "def main(): # 근무시간과 시간당 급여를 입력받아 각 변수에 할당한다.\n",
        "  hours_worked = float(input('Enter the number of hours worked: '))\n",
        "  pay_rate = float(input('Enter the hourly pay rate: '))\n",
        "  # 총 급여를 계산하고 그 결과를 출력한다.\n",
        "  if hours_worked > BASE_HOURS:\n",
        "    calc_pay_with_OT(hours_worked, pay_rate)\n",
        "  else:\n",
        "    calc_regular_pay(hours_worked, pay_rate)\n",
        "\n",
        "def calc_pay_with_OT(hours, rate):\n",
        "  # 초과 근무시간을 계산한다.\n",
        "  overtime_hours = hours - BASE_HOURS\n",
        "\n",
        " # 초과 근무시간의 급여를 계산한다.\n",
        "  overtime_pay = overtime_hours * rate * OT_MULTIPLIER\n",
        " # 총 급여를 계산한다.\n",
        "  gross_pay = BASE_HOURS * rate + overtime_pay\n",
        " # 총 급여를 출력한다.\n",
        "  print('The gross pay is $', format(gross_pay, ',.2f'), sep='')\n",
        "\n",
        "def calc_regular_pay(hours, rate): # 총 급여를 계산한다.\n",
        "  gross_pay = hours * rate\n",
        "  # 총 급여를 출력한다.\n",
        "  print('The gross pay is $', format(gross_pay, ',.2f'), sep='')\n",
        "\n",
        "# main 함수를 호출한다.\n",
        "main()"
      ],
      "metadata": {
        "colab": {
          "base_uri": "https://localhost:8080/"
        },
        "id": "OwGCwG1iNSbn",
        "outputId": "e6d5bdcd-9619-49d2-96da-ec85e3103c41"
      },
      "execution_count": null,
      "outputs": [
        {
          "output_type": "stream",
          "name": "stdout",
          "text": [
            "Enter the number of hours worked: 12\n",
            "Enter the hourly pay rate: 12\n",
            "The gross pay is $144.00\n"
          ]
        }
      ]
    },
    {
      "cell_type": "code",
      "source": [
        "# 본 예제에서는 문자열을 입력받아서 비교하는 방법에 대해 알아보자.\n",
        "# 문자열을 입력받고 변수에 할당한다.\n",
        "password = input('Enter the password: ')\n",
        "# 입력받은 문자열과 특정 문자열을 비교한 후 동일한 경우와 그렇지 않은 경우에 대해\n",
        "# 알맞은 메시지를 출력한다.\n",
        "if password == 'prospero':\n",
        "  print('Password accepted.')\n",
        "else:\n",
        "  print('Sorry, that is the wrong password.')"
      ],
      "metadata": {
        "colab": {
          "base_uri": "https://localhost:8080/"
        },
        "id": "0EXl1_mEOOuj",
        "outputId": "76c4621f-fb04-488b-8cc0-9f8fd9a4ad8e"
      },
      "execution_count": null,
      "outputs": [
        {
          "output_type": "stream",
          "name": "stdout",
          "text": [
            "Enter the password: 1234\n",
            "Sorry, that is the wrong password.\n"
          ]
        }
      ]
    },
    {
      "cell_type": "code",
      "source": [
        "# 본 예제에서는 비교 연산자 < 로 문자열의 순서를 비교해보자.\n",
        "# 이름 두 개를 문자열로 입력받고 각 변수에 할당한다.\n",
        "name1 = input('Enter a name (last name first): ')\n",
        "name2 = input('Enter another name (last name first): ')\n",
        "# 입력받은 이름을 알파벳 순서에 따라 출력해보자.\n",
        "print('Here are the names, listed alphabetically.')\n",
        "if name1 < name2:\n",
        "  print(name1)\n",
        "  print(name2)\n",
        "else:\n",
        "  print(name2)\n",
        "  print(name1)"
      ],
      "metadata": {
        "colab": {
          "base_uri": "https://localhost:8080/"
        },
        "id": "4x8iL5xoOijS",
        "outputId": "8f261373-022c-4f90-9de7-37dc358aa8a6"
      },
      "execution_count": null,
      "outputs": [
        {
          "output_type": "stream",
          "name": "stdout",
          "text": [
            "Enter a name (last name first): djkf\n",
            "Enter another name (last name first): djfk\n",
            "Here are the names, listed alphabetically.\n",
            "djfk\n",
            "djkf\n"
          ]
        }
      ]
    },
    {
      "cell_type": "code",
      "source": [
        "base = 8\n",
        "\n",
        "for r in range(base):\n",
        "  for c in range(r+1):\n",
        "    print('*', end = '')\n",
        "  print()"
      ],
      "metadata": {
        "colab": {
          "base_uri": "https://localhost:8080/"
        },
        "id": "Es0byyo2iz8h",
        "outputId": "faaee42c-5e19-422f-8073-a6d994bacff3"
      },
      "execution_count": 2,
      "outputs": [
        {
          "output_type": "stream",
          "name": "stdout",
          "text": [
            "*\n",
            "**\n",
            "***\n",
            "****\n",
            "*****\n",
            "******\n",
            "*******\n",
            "********\n"
          ]
        }
      ]
    },
    {
      "cell_type": "code",
      "source": [
        "for r in range(base):\n",
        "  for c in range(base-r):\n",
        "    print('*',end = '')\n",
        "  print()"
      ],
      "metadata": {
        "colab": {
          "base_uri": "https://localhost:8080/"
        },
        "id": "F9GtrDcrOwxg",
        "outputId": "054e87f0-0e8d-4eb8-c13c-0d9256425d7b"
      },
      "execution_count": 3,
      "outputs": [
        {
          "output_type": "stream",
          "name": "stdout",
          "text": [
            "********\n",
            "*******\n",
            "******\n",
            "*****\n",
            "****\n",
            "***\n",
            "**\n",
            "*\n"
          ]
        }
      ]
    },
    {
      "cell_type": "code",
      "source": [
        "for r in range(base+1):\n",
        "  print('*'* (base- r))"
      ],
      "metadata": {
        "id": "cmBD0J4GWkDU",
        "outputId": "e0e6991a-e8c0-456a-f032-b23889a96cda",
        "colab": {
          "base_uri": "https://localhost:8080/"
        }
      },
      "execution_count": 9,
      "outputs": [
        {
          "output_type": "stream",
          "name": "stdout",
          "text": [
            "********\n",
            "*******\n",
            "******\n",
            "*****\n",
            "****\n",
            "***\n",
            "**\n",
            "*\n",
            "\n"
          ]
        }
      ]
    },
    {
      "cell_type": "code",
      "source": [],
      "metadata": {
        "id": "pMjW9QYq-R2I"
      },
      "execution_count": null,
      "outputs": []
    }
  ]
}