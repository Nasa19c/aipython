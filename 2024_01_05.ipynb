{
  "nbformat": 4,
  "nbformat_minor": 0,
  "metadata": {
    "colab": {
      "provenance": [],
      "authorship_tag": "ABX9TyPzcyfh0zb2rivZOndV977L",
      "include_colab_link": true
    },
    "kernelspec": {
      "name": "python3",
      "display_name": "Python 3"
    },
    "language_info": {
      "name": "python"
    }
  },
  "cells": [
    {
      "cell_type": "markdown",
      "metadata": {
        "id": "view-in-github",
        "colab_type": "text"
      },
      "source": [
        "<a href=\"https://colab.research.google.com/github/Nasa19c/aipython/blob/main/2024_01_05.ipynb\" target=\"_parent\"><img src=\"https://colab.research.google.com/assets/colab-badge.svg\" alt=\"Open In Colab\"/></a>"
      ]
    },
    {
      "cell_type": "code",
      "execution_count": 2,
      "metadata": {
        "colab": {
          "base_uri": "https://localhost:8080/"
        },
        "id": "EY8wQEG5G7ml",
        "outputId": "00fa1432-8e84-4a41-b751-629a6a4d9ed2"
      },
      "outputs": [
        {
          "output_type": "stream",
          "name": "stdout",
          "text": [
            "Name: John Age: 30 Occupation: Engineer\n",
            "Name: Alice Age: 25 Occupation: Desinger\n",
            "Name: Bob Age: 22 Occupation: Artist\n"
          ]
        }
      ],
      "source": [
        "data = 'John,30,Engineer\\nAlice,25,Desinger\\nBob,22,Artist'\n",
        "lines = data.split('\\n')\n",
        "\n",
        "for line in lines:\n",
        "  fields = line.split(',')\n",
        "  print('Name:',fields[0],'Age:',fields[1],'Occupation:',fields[2])"
      ]
    },
    {
      "cell_type": "code",
      "source": [
        "words = ['hello','world', 'this','is']\n",
        "sentence = ''.join(words)\n",
        "print(sentence)"
      ],
      "metadata": {
        "colab": {
          "base_uri": "https://localhost:8080/"
        },
        "id": "6Zk05xcXPVu_",
        "outputId": "bf1c652e-1709-4528-8978-2c20eed9177e"
      },
      "execution_count": 4,
      "outputs": [
        {
          "output_type": "stream",
          "name": "stdout",
          "text": [
            "helloworldthisis\n"
          ]
        }
      ]
    },
    {
      "cell_type": "code",
      "source": [
        "a = input()\n",
        "print(a.split(' '))"
      ],
      "metadata": {
        "colab": {
          "base_uri": "https://localhost:8080/"
        },
        "id": "jBHBUYtJPqvu",
        "outputId": "ebe69473-2b43-4302-ddc9-09046b9ffcf5"
      },
      "execution_count": 5,
      "outputs": [
        {
          "output_type": "stream",
          "name": "stdout",
          "text": [
            "dkjf djfk dfjk\n",
            "['dkjf', 'djfk', 'dfjk']\n"
          ]
        }
      ]
    },
    {
      "cell_type": "code",
      "source": [
        "b = ['geeks','for','gooks']\n",
        "k = '-'.join(b)\n",
        "print(k)"
      ],
      "metadata": {
        "colab": {
          "base_uri": "https://localhost:8080/"
        },
        "id": "UXXch-ArP5av",
        "outputId": "6e84769f-aef5-431c-b80c-ee1ebf457684"
      },
      "execution_count": 7,
      "outputs": [
        {
          "output_type": "stream",
          "name": "stdout",
          "text": [
            "geeks-for-gooks\n"
          ]
        }
      ]
    },
    {
      "cell_type": "code",
      "source": [
        "squares = [x**2 for x in range(5)]\n",
        "print(squares)"
      ],
      "metadata": {
        "colab": {
          "base_uri": "https://localhost:8080/"
        },
        "id": "sEVlUo3PQL0f",
        "outputId": "0a73a440-fe2e-4f23-c5a2-5ccfcbf923da"
      },
      "execution_count": 9,
      "outputs": [
        {
          "output_type": "stream",
          "name": "stdout",
          "text": [
            "[0, 1, 4, 9, 16]\n"
          ]
        }
      ]
    },
    {
      "cell_type": "code",
      "source": [
        "k = [x**2 for x in range(3,20,3)]\n",
        "k"
      ],
      "metadata": {
        "colab": {
          "base_uri": "https://localhost:8080/"
        },
        "id": "HNrJpardTdhi",
        "outputId": "087630cc-a875-4adf-83f4-d992bad42afd"
      },
      "execution_count": 11,
      "outputs": [
        {
          "output_type": "execute_result",
          "data": {
            "text/plain": [
              "[9, 36, 81, 144, 225, 324]"
            ]
          },
          "metadata": {},
          "execution_count": 11
        }
      ]
    },
    {
      "cell_type": "code",
      "source": [
        "input = [1,2,3,4,5]\n",
        "[x**2 for x in input]\n"
      ],
      "metadata": {
        "colab": {
          "base_uri": "https://localhost:8080/"
        },
        "id": "8cunVjAST9u8",
        "outputId": "e4a0ea48-8d86-4ef2-9677-ee41481e8727"
      },
      "execution_count": 13,
      "outputs": [
        {
          "output_type": "execute_result",
          "data": {
            "text/plain": [
              "[1, 4, 9, 16, 25]"
            ]
          },
          "metadata": {},
          "execution_count": 13
        }
      ]
    },
    {
      "cell_type": "code",
      "source": [
        "input = ['Seoul','New','London','Shanghai']\n",
        "[x for x in input if 'S' in x]"
      ],
      "metadata": {
        "colab": {
          "base_uri": "https://localhost:8080/"
        },
        "id": "sD_M6SEiUFWk",
        "outputId": "0dd09a9a-c925-470f-df2f-372fbff9d2e8"
      },
      "execution_count": 15,
      "outputs": [
        {
          "output_type": "execute_result",
          "data": {
            "text/plain": [
              "['Seoul', 'Shanghai']"
            ]
          },
          "metadata": {},
          "execution_count": 15
        }
      ]
    },
    {
      "cell_type": "code",
      "source": [
        "fruits = ['apple','banana','cherry']\n",
        "for i,x in enumerate(fruits,1):\n",
        "  print(i,x)"
      ],
      "metadata": {
        "colab": {
          "base_uri": "https://localhost:8080/"
        },
        "id": "BTYRoFSOUXnn",
        "outputId": "e1cd4d16-5dfa-48c1-d3a4-58fb3b41c5b1"
      },
      "execution_count": 18,
      "outputs": [
        {
          "output_type": "stream",
          "name": "stdout",
          "text": [
            "1 apple\n",
            "2 banana\n",
            "3 cherry\n"
          ]
        }
      ]
    },
    {
      "cell_type": "code",
      "source": [
        "input = ['a','b','c']\n",
        "for i,x in enumerate(input):\n",
        "  print(f'fruit{i} name is {x}')"
      ],
      "metadata": {
        "colab": {
          "base_uri": "https://localhost:8080/"
        },
        "id": "aN0qnbRiWhPP",
        "outputId": "f0fe00bb-504d-460f-eb09-5cca0ee4fcb3"
      },
      "execution_count": 25,
      "outputs": [
        {
          "output_type": "stream",
          "name": "stdout",
          "text": [
            "fruit0 name is a\n",
            "fruit1 name is b\n",
            "fruit2 name is c\n"
          ]
        }
      ]
    },
    {
      "cell_type": "code",
      "source": [
        "name = ['M','N','S','A']\n",
        "rol_no = [4,1,3,2]\n",
        "\n",
        "dict(zip(name,rol_no))"
      ],
      "metadata": {
        "colab": {
          "base_uri": "https://localhost:8080/"
        },
        "id": "ll-4ItOqalud",
        "outputId": "4d20403a-076a-45c0-e999-737931c63823"
      },
      "execution_count": 27,
      "outputs": [
        {
          "output_type": "execute_result",
          "data": {
            "text/plain": [
              "{'M': 4, 'N': 1, 'S': 3, 'A': 2}"
            ]
          },
          "metadata": {},
          "execution_count": 27
        }
      ]
    },
    {
      "cell_type": "code",
      "source": [
        "name = ['M','R','C']\n",
        "ages = [24,50,18]\n",
        "for i in range(len(name)):\n",
        "  print(i, name[i], ages[i])"
      ],
      "metadata": {
        "colab": {
          "base_uri": "https://localhost:8080/"
        },
        "id": "95swVFQCayAL",
        "outputId": "099dca13-594f-4ea4-856c-982e89ee5ad2"
      },
      "execution_count": 29,
      "outputs": [
        {
          "output_type": "stream",
          "name": "stdout",
          "text": [
            "0 M 24\n",
            "1 R 50\n",
            "2 C 18\n"
          ]
        }
      ]
    },
    {
      "cell_type": "code",
      "source": [
        "add = lambda x,y: x+y\n",
        "add(1,2)"
      ],
      "metadata": {
        "colab": {
          "base_uri": "https://localhost:8080/"
        },
        "id": "MvXAFYXueWFV",
        "outputId": "5cd078f5-009e-426c-e2cb-29e1196a183d"
      },
      "execution_count": 30,
      "outputs": [
        {
          "output_type": "execute_result",
          "data": {
            "text/plain": [
              "3"
            ]
          },
          "metadata": {},
          "execution_count": 30
        }
      ]
    }
  ]
}