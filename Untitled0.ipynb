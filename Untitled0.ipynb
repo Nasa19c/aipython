{
  "nbformat": 4,
  "nbformat_minor": 0,
  "metadata": {
    "colab": {
      "provenance": [],
      "authorship_tag": "ABX9TyMKJX475dOp2Z0lbK5YjkGd",
      "include_colab_link": true
    },
    "kernelspec": {
      "name": "python3",
      "display_name": "Python 3"
    },
    "language_info": {
      "name": "python"
    }
  },
  "cells": [
    {
      "cell_type": "markdown",
      "metadata": {
        "id": "view-in-github",
        "colab_type": "text"
      },
      "source": [
        "<a href=\"https://colab.research.google.com/github/Nasa19c/aipython/blob/main/Untitled0.ipynb\" target=\"_parent\"><img src=\"https://colab.research.google.com/assets/colab-badge.svg\" alt=\"Open In Colab\"/></a>"
      ]
    },
    {
      "cell_type": "code",
      "execution_count": 1,
      "metadata": {
        "colab": {
          "base_uri": "https://localhost:8080/"
        },
        "id": "bghDyaHKEvhe",
        "outputId": "b863aa05-47bd-45c8-a885-cf8491cc3962"
      },
      "outputs": [
        {
          "output_type": "stream",
          "name": "stdout",
          "text": [
            "부산대학교\n",
            "기초교육원\n",
            "컴퓨팅적 사고와 코딩\n"
          ]
        }
      ],
      "source": [
        "print('부산대학교')\n",
        "print('기초교육원')\n",
        "print('컴퓨팅적 사고와 코딩')"
      ]
    },
    {
      "cell_type": "code",
      "source": [
        "print(\"부산대학교\")\n",
        "print(\"기초교육원\")\n",
        "print(\"컴퓨팅적 사고와 코딩\")"
      ],
      "metadata": {
        "colab": {
          "base_uri": "https://localhost:8080/"
        },
        "id": "TifEgqMSE0vt",
        "outputId": "e4cd66a0-59de-4e72-da46-d490a9cb19f0"
      },
      "execution_count": 2,
      "outputs": [
        {
          "output_type": "stream",
          "name": "stdout",
          "text": [
            "부산대학교\n",
            "기초교육원\n",
            "컴퓨팅적 사고와 코딩\n"
          ]
        }
      ]
    },
    {
      "cell_type": "code",
      "source": [
        "print(\"\"\"One\n",
        "Two\n",
        "Three\"\"\")"
      ],
      "metadata": {
        "colab": {
          "base_uri": "https://localhost:8080/"
        },
        "id": "YPUG4K5kE1Kc",
        "outputId": "42dcb0a2-987a-4a3c-e4aa-237ab8e01811"
      },
      "execution_count": 3,
      "outputs": [
        {
          "output_type": "stream",
          "name": "stdout",
          "text": [
            "One\n",
            "Two\n",
            "Three\n"
          ]
        }
      ]
    },
    {
      "cell_type": "code",
      "source": [
        "#화면에 여러 줄을\n",
        "#출력하는 방법에 대한 코드입니다. print(\"부산대학교\")\n",
        "print(\"기초교육원\")\n",
        "print(\"컴퓨팅적 사고와 코딩\")\n",
        "\n",
        "print('부산대학교') #첫 번째 줄에 ‘부산대학교’를 출력합니다. print('기초교육원') #두 번째 줄에 ‘기초교육원’을 출력합니다. print('컴퓨팅적 사고와 코딩') #세 번째 줄에 ‘파이썬 프로그래밍 기초’를 출력합니다\n"
      ],
      "metadata": {
        "colab": {
          "base_uri": "https://localhost:8080/"
        },
        "id": "5tdN9ZQDE2dY",
        "outputId": "5055b330-4405-4787-e9a4-4f3d3e5adb88"
      },
      "execution_count": 4,
      "outputs": [
        {
          "output_type": "stream",
          "name": "stdout",
          "text": [
            "기초교육원\n",
            "컴퓨팅적 사고와 코딩\n",
            "부산대학교\n"
          ]
        }
      ]
    },
    {
      "cell_type": "code",
      "source": [
        "#하나의 변수를 활용하는 코드입니다.\n",
        "Lab = 105\n",
        "print('우리가 수업하는 실습실:')\n",
        "print(Lab)"
      ],
      "metadata": {
        "colab": {
          "base_uri": "https://localhost:8080/"
        },
        "id": "LLhEF6BiE5Nm",
        "outputId": "34707aee-48a1-4e28-d3fc-e8c3b848ee85"
      },
      "execution_count": 5,
      "outputs": [
        {
          "output_type": "stream",
          "name": "stdout",
          "text": [
            "우리가 수업하는 실습실:\n",
            "105\n"
          ]
        }
      ]
    },
    {
      "cell_type": "code",
      "source": [
        "#하나의 변수를 활용하는 코드입니다.\n",
        "Lab = 105\n",
        "print('우리가 수업하는 실습실: ', Lab)"
      ],
      "metadata": {
        "colab": {
          "base_uri": "https://localhost:8080/"
        },
        "id": "uzjx8RvrE7QF",
        "outputId": "11b55ae9-454e-45fe-ff78-f970fb397ab9"
      },
      "execution_count": 6,
      "outputs": [
        {
          "output_type": "stream",
          "name": "stdout",
          "text": [
            "우리가 수업하는 실습실:  105\n"
          ]
        }
      ]
    },
    {
      "cell_type": "code",
      "source": [
        "# 변수 두 개를 생성하고 값을 할당\n",
        "my_id = 20150001\n",
        "grade = 1\n",
        "# 두 개의 변수에 할당된 값을 출력\n",
        "print('나의 학번: ')\n",
        "print(my_id)\n",
        "print('학년: ')\n",
        "print(grade)"
      ],
      "metadata": {
        "colab": {
          "base_uri": "https://localhost:8080/"
        },
        "id": "sYiyAGKzE9Dh",
        "outputId": "6a6185de-e319-4969-e0f8-7159ad2e4e45"
      },
      "execution_count": 7,
      "outputs": [
        {
          "output_type": "stream",
          "name": "stdout",
          "text": [
            "나의 학번: \n",
            "20150001\n",
            "학년: \n",
            "1\n"
          ]
        }
      ]
    },
    {
      "cell_type": "code",
      "source": [
        "# 변수에 값을 할당하고 출력하는 예제입니다.\n",
        "# dollars 변수에 값을 할당해봅시다.\n",
        "dollars = 2.75\n",
        "print('I have', dollars, 'in my account.')\n",
        "# dollars 변수에 새로운 값을 할당해봅시다.\n",
        "dollars = 99.95\n",
        "print('But now I have', dollars, 'in my account!')"
      ],
      "metadata": {
        "id": "r2X6VG2nE-0G",
        "outputId": "f49ec875-36d1-42b3-8ee3-388f5f46a6b5",
        "colab": {
          "base_uri": "https://localhost:8080/"
        }
      },
      "execution_count": 8,
      "outputs": [
        {
          "output_type": "stream",
          "name": "stdout",
          "text": [
            "I have 2.75 in my account.\n",
            "But now I have 99.95 in my account!\n"
          ]
        }
      ]
    },
    {
      "cell_type": "code",
      "source": [],
      "metadata": {
        "id": "aX4qJD1wFAqZ"
      },
      "execution_count": null,
      "outputs": []
    }
  ]
}